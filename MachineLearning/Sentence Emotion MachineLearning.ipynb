{
 "cells": [
  {
   "cell_type": "markdown",
   "metadata": {},
   "source": [
    "### 문장에 대한 감정을 예측하는 머신러닝"
   ]
  },
  {
   "cell_type": "code",
   "execution_count": 3,
   "metadata": {},
   "outputs": [],
   "source": [
    "#자연 언어 처리를위한 라이브러리\n",
    "import nltk\n",
    "# 텍스트 정보를 처리하는 파이썬 라이브러리 textblob\n",
    "# 텍스트 분류를 위해 전통적으로 사용되는 분류기로 나이브 베이즈 분류기\n",
    "from textblob.classifiers import NaiveBayesClassifier"
   ]
  },
  {
   "cell_type": "code",
   "execution_count": 15,
   "metadata": {},
   "outputs": [],
   "source": [
    "# 머신 학습 데이터\n",
    "train = [\n",
    "    ('I love this sandwich.', 'pos'),\n",
    "    ('This is an amazing place!', 'pos'),\n",
    "    (\"What an awesome view\", 'pos'),\n",
    "    ('I do not like this restaurant', 'neg'),\n",
    "    ('I am tired of this stuff.', 'neg'),\n",
    "    (\"I can't deal with this\", 'neg'),\n",
    "    ('He is my sworn enemy!', 'neg'),\n",
    "    ('My boss is horrible.', 'neg')\n",
    "]\n",
    "# 머신 테스트 데이터\n",
    "test = [\n",
    "    ('The beer was good.', 'pos'),\n",
    "    ('I do not enjoy my job', 'neg'),\n",
    "    (\"I ain't feeling dandy today.\", 'neg'),\n",
    "    (\"I feel amazing!\", 'pos'),\n",
    "    ('Gary is a friend of mine.', 'pos'),\n",
    "    (\"I can't believe I'm doing this.\", 'neg')\n",
    "]"
   ]
  },
  {
   "cell_type": "code",
   "execution_count": 18,
   "metadata": {},
   "outputs": [],
   "source": [
    "# 분류기 생성\n",
    "cl = NaiveBayesClassifier(train)"
   ]
  },
  {
   "cell_type": "code",
   "execution_count": 25,
   "metadata": {},
   "outputs": [
    {
     "data": {
      "text/plain": [
       "'neg'"
      ]
     },
     "execution_count": 25,
     "metadata": {},
     "output_type": "execute_result"
    }
   ],
   "source": [
    "# 학습된 분류기에서 classify(text) 함수를 사용하면 텍스트를 분류할 수 있다.\n",
    "# 학습 데이터에 없는 텍스트를 입력하여 분류\n",
    "cl.classify(\"Their burgers are amazing\")  # \"pos\"\n",
    "cl.classify(\"I don't like their pizza.\")  # \"neg\""
   ]
  },
  {
   "cell_type": "code",
   "execution_count": 27,
   "metadata": {},
   "outputs": [
    {
     "data": {
      "text/plain": [
       "'neg'"
      ]
     },
     "execution_count": 27,
     "metadata": {},
     "output_type": "execute_result"
    }
   ],
   "source": [
    "# 아래와 같이 TextBlob 객체를 사용하여 여러 문장으로 구성된 텍스트도 분류할 수 있다.\n",
    "from textblob import TextBlob\n",
    "blob = TextBlob(\"The beer was amazing. \"\n",
    "                \"But the hangover was horrible. My boss was not happy.\",\n",
    "                classifier=cl)\n",
    "blob.classify()  # \"neg\""
   ]
  },
  {
   "cell_type": "code",
   "execution_count": 31,
   "metadata": {},
   "outputs": [
    {
     "name": "stdout",
     "output_type": "stream",
     "text": [
      "The beer was amazing.  =  pos\n",
      "But the hangover was horrible.  =  neg\n",
      "My boss was not happy.  =  neg\n"
     ]
    }
   ],
   "source": [
    "#TextBlob에서 문장을 분리하여 각 문장을 개별적으로 분류 할 수도 있다.\n",
    "for sentence in blob.sentences:\n",
    "    print(sentence,\" = \", sentence.classify())\n",
    "# \"pos\", \"neg\", \"neg\""
   ]
  },
  {
   "cell_type": "code",
   "execution_count": 32,
   "metadata": {},
   "outputs": [
    {
     "name": "stdout",
     "output_type": "stream",
     "text": [
      "Most Informative Features\n",
      "          contains(this) = True              neg : pos    =      2.3 : 1.0\n",
      "          contains(this) = False             pos : neg    =      1.8 : 1.0\n",
      "            contains(an) = False             neg : pos    =      1.6 : 1.0\n",
      "          contains(This) = False             neg : pos    =      1.6 : 1.0\n",
      "             contains(I) = False             pos : neg    =      1.4 : 1.0\n",
      "             contains(I) = True              neg : pos    =      1.4 : 1.0\n",
      "           contains(n't) = False             pos : neg    =      1.2 : 1.0\n",
      "          contains(What) = False             neg : pos    =      1.2 : 1.0\n",
      "          contains(boss) = False             pos : neg    =      1.2 : 1.0\n",
      "           contains(not) = False             pos : neg    =      1.2 : 1.0\n",
      "None\n",
      "0.8333333333333334\n"
     ]
    }
   ],
   "source": [
    "# informative를 사용하여 어떤 기준으로 분류 하는지 알아본다.\n",
    "# 단어에 대해 부정일지 긍정일지에 대한 확률이 출력된다. \n",
    "print(cl.show_informative_features())\n",
    "\n",
    "# accuracy() 함수에 test 데이터를 넣어서 정확도를 알아본다.\n",
    "print(cl.accuracy(test))"
   ]
  },
  {
   "cell_type": "markdown",
   "metadata": {},
   "source": [
    "### 사후 방향성\n",
    "> 1. 캐글의 Emotions Sensor Data Set을 학습시켜 훨씬 정확한 문장 감성 분석이 가능 할 것 같다.<br>\n",
    "> 2. konlpy를 import하고 Mecab()을 사용한다면 한글 데이터 또한 분석이 가능 하다."
   ]
  }
 ],
 "metadata": {
  "kernelspec": {
   "display_name": "Python 3",
   "language": "python",
   "name": "python3"
  },
  "language_info": {
   "codemirror_mode": {
    "name": "ipython",
    "version": 3
   },
   "file_extension": ".py",
   "mimetype": "text/x-python",
   "name": "python",
   "nbconvert_exporter": "python",
   "pygments_lexer": "ipython3",
   "version": "3.6.9"
  }
 },
 "nbformat": 4,
 "nbformat_minor": 2
}
